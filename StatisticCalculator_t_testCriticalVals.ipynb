{
 "cells": [
  {
   "cell_type": "code",
   "execution_count": 1,
   "metadata": {},
   "outputs": [],
   "source": [
    "import numpy as np\n",
    "import scipy.stats as stats\n",
    "import matplotlib.pyplot as plt\n",
    "import seaborn\n",
    "import ipywidgets as widgets\n",
    "from IPython.display import clear_output\n",
    "from IPython.display import HTML\n"
   ]
  },
  {
   "cell_type": "code",
   "execution_count": 2,
   "metadata": {},
   "outputs": [
    {
     "data": {
      "text/html": [
       "<script>\n",
       "code_show=true; \n",
       "function code_toggle() {\n",
       " if (code_show){\n",
       " $('div.input').hide();\n",
       " } else {\n",
       " $('div.input').show();\n",
       " }\n",
       " code_show = !code_show\n",
       "} \n",
       "$( document ).ready(code_toggle);\n",
       "</script>\n",
       "<form action=\"javascript:code_toggle()\"><input type=\"submit\" value=\"Click here to toggle on/off the raw code.\"></form>"
      ],
      "text/plain": [
       "<IPython.core.display.HTML object>"
      ]
     },
     "execution_count": 2,
     "metadata": {},
     "output_type": "execute_result"
    }
   ],
   "source": [
    "HTML('''<script>\n",
    "code_show=true; \n",
    "function code_toggle() {\n",
    " if (code_show){\n",
    " $('div.input').hide();\n",
    " } else {\n",
    " $('div.input').show();\n",
    " }\n",
    " code_show = !code_show\n",
    "} \n",
    "$( document ).ready(code_toggle);\n",
    "</script>\n",
    "<form action=\"javascript:code_toggle()\"><input type=\"submit\" value=\"Click here to toggle on/off the raw code.\"></form>''')"
   ]
  },
  {
   "cell_type": "markdown",
   "metadata": {},
   "source": [
    "# Finding the critical value of the t-distribution\n",
    "\n",
    "## Given an $\\alpha$ , n1, n2, and hypothesis about the population mean ($H_a, H_o$ of $\\mu$)"
   ]
  },
  {
   "cell_type": "code",
   "execution_count": 3,
   "metadata": {},
   "outputs": [
    {
     "data": {
      "application/vnd.jupyter.widget-view+json": {
       "model_id": "b7cbcbfdf1994af392495ca09de8e10e",
       "version_major": 2,
       "version_minor": 0
      },
      "text/plain": [
       "FloatText(value=0.05, description='alpha value as a decimal:')"
      ]
     },
     "metadata": {},
     "output_type": "display_data"
    }
   ],
   "source": [
    "t_test_Alpha = widgets.FloatText(\n",
    "    value=0.05,\n",
    "    description='alpha value as a decimal:',\n",
    "    disabled=False\n",
    ")\n",
    "\n",
    "t_test_Alpha"
   ]
  },
  {
   "cell_type": "code",
   "execution_count": 4,
   "metadata": {},
   "outputs": [
    {
     "data": {
      "application/vnd.jupyter.widget-view+json": {
       "model_id": "54742e04d90e4e4baff9846eb1055996",
       "version_major": 2,
       "version_minor": 0
      },
      "text/plain": [
       "IntText(value=10, description='n1:')"
      ]
     },
     "metadata": {},
     "output_type": "display_data"
    }
   ],
   "source": [
    "t_test_n1 = widgets.IntText(\n",
    "    value=10,\n",
    "    description='n1:',\n",
    "    disabled=False\n",
    ")\n",
    "t_test_n1"
   ]
  },
  {
   "cell_type": "code",
   "execution_count": 5,
   "metadata": {},
   "outputs": [
    {
     "data": {
      "application/vnd.jupyter.widget-view+json": {
       "model_id": "341590b7c8af47b486306f37fc056f13",
       "version_major": 2,
       "version_minor": 0
      },
      "text/plain": [
       "IntText(value=7, description='n2:')"
      ]
     },
     "metadata": {},
     "output_type": "display_data"
    }
   ],
   "source": [
    "t_test_n2 = widgets.IntText(\n",
    "    value=7,\n",
    "    description='n2:',\n",
    "    disabled=False\n",
    ")\n",
    "t_test_n2"
   ]
  },
  {
   "cell_type": "code",
   "execution_count": 6,
   "metadata": {},
   "outputs": [
    {
     "data": {
      "application/vnd.jupyter.widget-view+json": {
       "model_id": "246669792ab6489dbf63d96273cb225f",
       "version_major": 2,
       "version_minor": 0
      },
      "text/plain": [
       "Dropdown(description='Hypothesis:', options=('μ1 =/= μ2', 'μ1 < μ2', 'μ1 > μ2'), value='μ1 =/= μ2')"
      ]
     },
     "metadata": {},
     "output_type": "display_data"
    }
   ],
   "source": [
    "t_test_hypo_menu = widgets.Dropdown(\n",
    "       options=['μ1 =/= μ2', 'μ1 < μ2', 'μ1 > μ2'],\n",
    "       value='μ1 =/= μ2',\n",
    "       description='Hypothesis:')\n",
    "\n",
    "t_test_hypo_menu"
   ]
  },
  {
   "cell_type": "code",
   "execution_count": 7,
   "metadata": {},
   "outputs": [
    {
     "data": {
      "application/vnd.jupyter.widget-view+json": {
       "model_id": "fd387d5019f9469ab88a03772c8c4a3d",
       "version_major": 2,
       "version_minor": 0
      },
      "text/plain": [
       "Dropdown(description='Are the variances assumed to be:', options=('equal', 'not-equal'), value='equal')"
      ]
     },
     "metadata": {},
     "output_type": "display_data"
    }
   ],
   "source": [
    "t_test_var_menu = widgets.Dropdown(\n",
    "       options=['equal','not-equal'],\n",
    "       value='equal',\n",
    "       description='Are the variances assumed to be:')\n",
    "\n",
    "t_test_var_menu"
   ]
  },
  {
   "cell_type": "code",
   "execution_count": 8,
   "metadata": {},
   "outputs": [],
   "source": [
    "def df_fxn(n1,n2,varEqsStr):\n",
    "    if varEqsStr == 'equal':\n",
    "        dfVal = (n1+n2) - 2\n",
    "    if varEqsStr == 'not-equal':\n",
    "        dfVal = min([n1,n2])-1\n",
    "    return dfVal"
   ]
  },
  {
   "cell_type": "code",
   "execution_count": 9,
   "metadata": {},
   "outputs": [],
   "source": [
    "def effective_alpha(alpha,testType):\n",
    "    if '=' in testType:\n",
    "        alpha_e = 1 - alpha/2\n",
    "    if '<' in testType:\n",
    "        alpha_e = (alpha)\n",
    "    if '>' in testType:\n",
    "        alpha_e = 1 - alpha\n",
    "    return alpha_e\n",
    "\n",
    "def t_crit_fxn(alpha,df,testType):\n",
    "    critVal = stats.t.ppf(q=alpha,df=df)\n",
    "    critVal = round(critVal,4)\n",
    "    if '=' in testType:\n",
    "        critVal = -critVal,critVal\n",
    "    return critVal"
   ]
  },
  {
   "cell_type": "code",
   "execution_count": 10,
   "metadata": {},
   "outputs": [],
   "source": [
    "def critCalcs(t_test_n1=t_test_n1,\n",
    "              t_test_n2=t_test_n2,\n",
    "              t_test_var_menu=t_test_var_menu,\n",
    "              t_test_hypo_menu=t_test_hypo_menu,\n",
    "              t_test_Alpha=t_test_Alpha):\n",
    "    with output:\n",
    "#         print('clicked')\n",
    "        dfVal = df_fxn(t_test_n1.value,t_test_n2.value,t_test_var_menu.value)\n",
    "        alpha_e = effective_alpha(t_test_Alpha.value,t_test_hypo_menu.value)\n",
    "        tCritVals = t_crit_fxn(alpha_e,dfVal,t_test_hypo_menu.value)\n",
    "\n",
    "        print('Where n1 = ',t_test_n1.value,', n2 = ',t_test_n2.value,',')\n",
    "        print('The hypothesis is ',t_test_hypo_menu.value,',')\n",
    "        print('and variance is assumed to be',t_test_var_menu.value)\n",
    "        print('with an α of ',t_test_Alpha.value)\n",
    "        print('Critical Value(s) are ' ,tCritVals)\n",
    "\n",
    "        \n",
    "def buttonClicked(b):\n",
    "    output.clear_output()\n",
    "    with output:\n",
    "        critCalcs(t_test_n1=t_test_n1,\n",
    "              t_test_n2=t_test_n2,\n",
    "              t_test_var_menu=t_test_var_menu,\n",
    "              t_test_hypo_menu=t_test_hypo_menu,\n",
    "              t_test_Alpha=t_test_Alpha)"
   ]
  },
  {
   "cell_type": "code",
   "execution_count": 11,
   "metadata": {},
   "outputs": [
    {
     "data": {
      "application/vnd.jupyter.widget-view+json": {
       "model_id": "f8a3a00ffa9d4514ab9721620b994e73",
       "version_major": 2,
       "version_minor": 0
      },
      "text/plain": [
       "Button(button_style='success', description='Calculate critical values', icon='check', style=ButtonStyle(), too…"
      ]
     },
     "metadata": {},
     "output_type": "display_data"
    },
    {
     "data": {
      "application/vnd.jupyter.widget-view+json": {
       "model_id": "f0cec012d73b45a68d2463eee6115282",
       "version_major": 2,
       "version_minor": 0
      },
      "text/plain": [
       "Output()"
      ]
     },
     "metadata": {},
     "output_type": "display_data"
    }
   ],
   "source": [
    "updateButton = widgets.Button(\n",
    "    description='Calculate critical values',\n",
    "    disabled=False,\n",
    "    button_style='success', # 'success', 'info', 'warning', 'danger' or ''\n",
    "    tooltip='Click me',\n",
    "    icon='check' # (FontAwesome names without the `fa-` prefix)\n",
    ")\n",
    "\n",
    "output = widgets.Output()\n",
    "\n",
    "display(updateButton,output)\n",
    "\n",
    "updateButton.on_click(buttonClicked)\n",
    "\n"
   ]
  }
 ],
 "metadata": {
  "kernelspec": {
   "display_name": "Python 3",
   "language": "python",
   "name": "python3"
  },
  "language_info": {
   "codemirror_mode": {
    "name": "ipython",
    "version": 3
   },
   "file_extension": ".py",
   "mimetype": "text/x-python",
   "name": "python",
   "nbconvert_exporter": "python",
   "pygments_lexer": "ipython3",
   "version": "3.8.3"
  }
 },
 "nbformat": 4,
 "nbformat_minor": 4
}
